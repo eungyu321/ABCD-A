{
  "nbformat": 4,
  "nbformat_minor": 0,
  "metadata": {
    "colab": {
      "provenance": [],
      "authorship_tag": "ABX9TyOcQKJHGd7Q0wAaV8BN6VcQ",
      "include_colab_link": true
    },
    "kernelspec": {
      "name": "python3",
      "display_name": "Python 3"
    },
    "language_info": {
      "name": "python"
    }
  },
  "cells": [
    {
      "cell_type": "markdown",
      "metadata": {
        "id": "view-in-github",
        "colab_type": "text"
      },
      "source": [
        "<a href=\"https://colab.research.google.com/github/eungyu321/ABCD-A/blob/main/Untitled4.ipynb\" target=\"_parent\"><img src=\"https://colab.research.google.com/assets/colab-badge.svg\" alt=\"Open In Colab\"/></a>"
      ]
    },
    {
      "cell_type": "code",
      "execution_count": 1,
      "metadata": {
        "colab": {
          "base_uri": "https://localhost:8080/"
        },
        "id": "ZRdVEg2Bo_HM",
        "outputId": "cfea51a1-5ce5-4574-f5b1-bf7a45efda96"
      },
      "outputs": [
        {
          "output_type": "stream",
          "name": "stdout",
          "text": [
            "(a) 주기 T = 0.5 s\n",
            "(b) 속력 v = 7.54 m/s\n",
            "(c) 가속도 ac = 94.75 m/s^2\n"
          ]
        }
      ],
      "source": [
        "import math\n",
        "\n",
        "m=0.15\n",
        "r=0.60\n",
        "f=2.0\n",
        "\n",
        "T=1/f\n",
        "v=(2*math.pi*r)/T\n",
        "ac=(v*v)/r\n",
        "\n",
        "print(\"(a) 주기 T =\",T,\"s\")\n",
        "print(\"(b) 속력 v =\", round (v,2),\"m/s\")\n",
        "print(\"(c) 가속도 ac =\", round (ac,2),\"m/s^2\")"
      ]
    }
  ]
}