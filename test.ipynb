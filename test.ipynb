{
  "nbformat": 4,
  "nbformat_minor": 0,
  "metadata": {
    "colab": {
      "provenance": [],
      "authorship_tag": "ABX9TyPSyUprdbHJu65GQwwcm1Aq",
      "include_colab_link": true
    },
    "kernelspec": {
      "name": "python3",
      "display_name": "Python 3"
    },
    "language_info": {
      "name": "python"
    }
  },
  "cells": [
    {
      "cell_type": "markdown",
      "metadata": {
        "id": "view-in-github",
        "colab_type": "text"
      },
      "source": [
        "<a href=\"https://colab.research.google.com/github/eungyu321/ABCD-A/blob/20250307/test.ipynb\" target=\"_parent\"><img src=\"https://colab.research.google.com/assets/colab-badge.svg\" alt=\"Open In Colab\"/></a>"
      ]
    },
    {
      "cell_type": "code",
      "source": [
        "watch=100000\n",
        "print(watch)"
      ],
      "metadata": {
        "colab": {
          "base_uri": "https://localhost:8080/"
        },
        "id": "mNtc4caRgcJn",
        "outputId": "678ed852-93fb-4ab3-8e7a-ed1fabcd399a"
      },
      "execution_count": null,
      "outputs": [
        {
          "output_type": "stream",
          "name": "stdout",
          "text": [
            "100000\n"
          ]
        }
      ]
    },
    {
      "cell_type": "code",
      "source": [
        "a='pig'\n",
        "b='dad'\n",
        "\n",
        "print(a)\n",
        "print(b)\n",
        "print(watch)\n",
        "a+b\n",
        "a+' '+b\n",
        "\n",
        "\n",
        "\n",
        "aa=1\n",
        "bb=100\n",
        "\n",
        "aa,bb=bb,aa\n",
        "print(aa)\n",
        "print(bb)\n",
        "\n",
        "#예제입니다\n",
        "\n",
        "a1 = [10,20,30]\n",
        "b1 = a1\n",
        "a1[0] = 200 #예제입니다\n",
        "print(b1)\n",
        "\n",
        "\n",
        "\n",
        "print(\"Hello World\")\n",
        "print(\"Hello World\")\n",
        "print(1)\n",
        "print(\"1\")\n",
        "\n",
        "c=1\n",
        "print(\"c=\"+str(c))\n",
        "print(\"c=\",c)\n",
        "print(\"c={}\",format(c))"
      ],
      "metadata": {
        "colab": {
          "base_uri": "https://localhost:8080/"
        },
        "id": "rvLnMvz6g8ZN",
        "outputId": "3d6c9330-11a9-4d94-ef0b-5af8b7e85995"
      },
      "execution_count": null,
      "outputs": [
        {
          "output_type": "stream",
          "name": "stdout",
          "text": [
            "pig\n",
            "dad\n",
            "100000\n",
            "100\n",
            "1\n",
            "[200, 20, 30]\n",
            "Hello World\n",
            "Hello World\n",
            "1\n",
            "1\n",
            "c=1\n",
            "c= 1\n",
            "c={} 1\n"
          ]
        }
      ]
    },
    {
      "cell_type": "code",
      "source": [
        "a = 10\n",
        "b = 2000\n",
        "[a,b]=[10,20]\n",
        "a= b = 10\n",
        "a= none\n"
      ],
      "metadata": {
        "id": "-JfWfIY_ky_-"
      },
      "execution_count": null,
      "outputs": []
    }
  ]
}