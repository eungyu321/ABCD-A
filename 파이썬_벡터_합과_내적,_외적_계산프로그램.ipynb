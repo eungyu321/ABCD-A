{
  "nbformat": 4,
  "nbformat_minor": 0,
  "metadata": {
    "colab": {
      "provenance": [],
      "authorship_tag": "ABX9TyOzgDMLmHc2tUtF4XSSrBGz",
      "include_colab_link": true
    },
    "kernelspec": {
      "name": "python3",
      "display_name": "Python 3"
    },
    "language_info": {
      "name": "python"
    }
  },
  "cells": [
    {
      "cell_type": "markdown",
      "metadata": {
        "id": "view-in-github",
        "colab_type": "text"
      },
      "source": [
        "<a href=\"https://colab.research.google.com/github/eungyu321/ABCD-A/blob/20250331/%ED%8C%8C%EC%9D%B4%EC%8D%AC_%EB%B2%A1%ED%84%B0_%ED%95%A9%EA%B3%BC_%EB%82%B4%EC%A0%81%2C_%EC%99%B8%EC%A0%81_%EA%B3%84%EC%82%B0%ED%94%84%EB%A1%9C%EA%B7%B8%EB%9E%A8.ipynb\" target=\"_parent\"><img src=\"https://colab.research.google.com/assets/colab-badge.svg\" alt=\"Open In Colab\"/></a>"
      ]
    },
    {
      "cell_type": "code",
      "execution_count": null,
      "metadata": {
        "colab": {
          "base_uri": "https://localhost:8080/"
        },
        "id": "y7E8mrX3gsHS",
        "outputId": "7fa05901-c7bc-409d-8030-b967e0cfc046"
      },
      "outputs": [
        {
          "name": "stdout",
          "output_type": "stream",
          "text": [
            "첫 번째 벡터의 x 성분을 입력하세요: 7767\n",
            "첫 번째 벡터의 y 성분을 입력하세요: 867\n"
          ]
        }
      ],
      "source": [
        "x1 = float(input(\"첫 번째 벡터의 x 성분을 입력하세요: \"))\n",
        "y1 = float(input(\"첫 번째 벡터의 y 성분을 입력하세요: \"))"
      ]
    },
    {
      "cell_type": "code",
      "source": [
        "x2 = float(input(\"두 번째 벡터의 x 성분을 입력하세요: \"))\n",
        "y2 = float(input(\"두 번째 벡터의 y 성분을 입력하세요: \"))"
      ],
      "metadata": {
        "colab": {
          "base_uri": "https://localhost:8080/"
        },
        "id": "jlX4mkvlQ0SW",
        "outputId": "f371a18b-087e-475c-f1ae-231565a6605a"
      },
      "execution_count": null,
      "outputs": [
        {
          "name": "stdout",
          "output_type": "stream",
          "text": [
            "두 번째 벡터의 x 성분을 입력하세요: 1516\n",
            "두 번째 벡터의 y 성분을 입력하세요: 51651\n"
          ]
        }
      ]
    },
    {
      "cell_type": "code",
      "source": [
        "sum_x = x1 + x2\n",
        "sum_y = y1 + y2"
      ],
      "metadata": {
        "id": "G-KtUIsUhO1a"
      },
      "execution_count": null,
      "outputs": []
    },
    {
      "cell_type": "code",
      "source": [
        "dot_product = x1 * x2 + y1 * y2"
      ],
      "metadata": {
        "id": "oSioqcr7Q_eJ"
      },
      "execution_count": null,
      "outputs": []
    },
    {
      "cell_type": "code",
      "source": [
        "cross_product = x1 * y2 - y1 * x2"
      ],
      "metadata": {
        "id": "yKxVJleFSoxG"
      },
      "execution_count": null,
      "outputs": []
    },
    {
      "cell_type": "code",
      "source": [
        "print(\"\\n벡터 1:\", x1, \"i +\", y1, \"j\")\n",
        "\n",
        "print(\"벡터 2:\", x2, \"i +\", y2, \"j\")\n",
        "\n",
        "print(\"\\n벡터의 합:\", sum_x, \"i +\", sum_y, \"j\")\n",
        "\n",
        "print(\"벡터의 내적:\", dot_product)\n",
        "\n",
        "print(\"벡터의 외적:\", cross_product)"
      ],
      "metadata": {
        "colab": {
          "base_uri": "https://localhost:8080/"
        },
        "id": "gjd4o3XySvAw",
        "outputId": "e4f2f929-a32b-4e87-f519-257f83fc25b6"
      },
      "execution_count": null,
      "outputs": [
        {
          "output_type": "stream",
          "name": "stdout",
          "text": [
            "\n",
            "벡터 1: 7767.0 i + 867.0 j\n",
            "벡터 2: 1516.0 i + 51651.0 j\n",
            "\n",
            "벡터의 합: 9283.0 i + 52518.0 j\n",
            "벡터의 내적: 56556189.0\n",
            "벡터의 외적: 399858945.0\n"
          ]
        }
      ]
    },
    {
      "cell_type": "code",
      "source": [
        "x1 = float(input(\"첫 번째 벡터의 x 성분을 입력하세요: \"))\n",
        "y1 = float(input(\"첫 번째 벡터의 y 성분을 입력하세요: \"))\n",
        "z1 = float(input(\"첫 번째 벡터의 z 성분을 입력하세요: \"))"
      ],
      "metadata": {
        "colab": {
          "base_uri": "https://localhost:8080/"
        },
        "id": "vGzu8XRbS4pD",
        "outputId": "fdbb5a7c-f446-4d9c-df4d-eeb3c6a481de"
      },
      "execution_count": null,
      "outputs": [
        {
          "name": "stdout",
          "output_type": "stream",
          "text": [
            "첫 번째 벡터의 x 성분을 입력하세요: 115645\n",
            "첫 번째 벡터의 y 성분을 입력하세요: 54546\n",
            "첫 번째 벡터의 z 성분을 입력하세요: 1254\n"
          ]
        }
      ]
    },
    {
      "cell_type": "code",
      "source": [
        "x2 = float(input(\"두 번째 벡터의 x 성분을 입력하세요: \"))\n",
        "y2 = float(input(\"두 번째 벡터의 y 성분을 입력하세요: \"))\n",
        "z2 = float(input(\"두 번째 벡터의 z 성분을 입력하세요: \"))"
      ],
      "metadata": {
        "colab": {
          "base_uri": "https://localhost:8080/"
        },
        "id": "AMuJfbKwTiTD",
        "outputId": "aedd0aee-83f0-42fe-ae41-bff157921303"
      },
      "execution_count": null,
      "outputs": [
        {
          "name": "stdout",
          "output_type": "stream",
          "text": [
            "두 번째 벡터의 x 성분을 입력하세요: 1242\n",
            "두 번째 벡터의 y 성분을 입력하세요: 4546\n",
            "두 번째 벡터의 z 성분을 입력하세요: 643\n"
          ]
        }
      ]
    },
    {
      "cell_type": "code",
      "source": [
        "sum_x = x1 + x2\n",
        "sum_y = y1 + y2\n",
        "sum_z = z1 + z2"
      ],
      "metadata": {
        "id": "YXx53ci5T3pm"
      },
      "execution_count": null,
      "outputs": []
    },
    {
      "cell_type": "code",
      "source": [
        "dot_product = x1 * x2 + y1 * y2 + z1 * z2"
      ],
      "metadata": {
        "id": "qyULmfgFUPlX"
      },
      "execution_count": null,
      "outputs": []
    },
    {
      "cell_type": "code",
      "source": [
        "cross_product = x1 * y2 * z1 - y1 * x2 * z1 - z2 * x1 * y1"
      ],
      "metadata": {
        "id": "ebEoJEHkUU-Y"
      },
      "execution_count": null,
      "outputs": []
    },
    {
      "cell_type": "code",
      "source": [
        "print(\"\\n벡터 1:\", x1, \"i +\", y1, \"j\", z1, \"k\")\n",
        "\n",
        "print(\"벡터 2:\", x2, \"i +\", y2, \"j\", z2, \"k\")\n",
        "\n",
        "print(\"\\n벡터의 합:\", sum_x, \"i +\", sum_y, \"j\", sum_z, \"k\")\n",
        "\n",
        "print(\"벡터의 내적:\", dot_product)\n",
        "\n",
        "print(\"벡터의 외적:\", cross_product)"
      ],
      "metadata": {
        "colab": {
          "base_uri": "https://localhost:8080/"
        },
        "id": "LvNDrcA_XHYX",
        "outputId": "db32dd2e-e76b-4467-9f8c-ee8a293ab656"
      },
      "execution_count": null,
      "outputs": [
        {
          "output_type": "stream",
          "name": "stdout",
          "text": [
            "\n",
            "벡터 1: 115645.0 i + 54546.0 j 1254.0 k\n",
            "벡터 2: 1242.0 i + 4546.0 j 643.0 k\n",
            "\n",
            "벡터의 합: 116887.0 i + 59092.0 j 1897.0 k\n",
            "벡터의 내적: 392403528.0\n",
            "벡터의 외적: -3481724153658.0\n"
          ]
        }
      ]
    }
  ]
}