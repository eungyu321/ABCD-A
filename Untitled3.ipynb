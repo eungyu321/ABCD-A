{
  "nbformat": 4,
  "nbformat_minor": 0,
  "metadata": {
    "colab": {
      "provenance": [],
      "authorship_tag": "ABX9TyONfYEEhjgMoW6I06V1vP6P",
      "include_colab_link": true
    },
    "kernelspec": {
      "name": "python3",
      "display_name": "Python 3"
    },
    "language_info": {
      "name": "python"
    }
  },
  "cells": [
    {
      "cell_type": "markdown",
      "metadata": {
        "id": "view-in-github",
        "colab_type": "text"
      },
      "source": [
        "<a href=\"https://colab.research.google.com/github/eungyu321/ABCD-A/blob/main/Untitled3.ipynb\" target=\"_parent\"><img src=\"https://colab.research.google.com/assets/colab-badge.svg\" alt=\"Open In Colab\"/></a>"
      ]
    },
    {
      "cell_type": "code",
      "execution_count": 3,
      "metadata": {
        "colab": {
          "base_uri": "https://localhost:8080/"
        },
        "id": "LM5k7rPRU7zr",
        "outputId": "31f18cee-7402-4bee-dc5b-dc30cf44e266"
      },
      "outputs": [
        {
          "output_type": "stream",
          "name": "stdout",
          "text": [
            "초기 속도를 입력해 주세요 (m/s): 32\n",
            "최종 속도를 입력해 주세요 (m/s): 0\n",
            "가속 시간(초)을 입력해 주세요: 10.5\n",
            "트랙 반지름(미터)을 입력해 주세요: 500\n",
            "지름 방향 가속도를 계산할 현재 속도를 입력해 주세요 (m/s): 35\n",
            "(a) 접선 가속도: -3.05 m/s²\n",
            "(b) 지름 방향의 가속도: 2.45 m/s²\n"
          ]
        }
      ],
      "source": [
        "import math\n",
        "\n",
        "# 사용자 입력\n",
        "v0 = float(input(\"초기 속도를 입력해 주세요 (m/s): \"))\n",
        "v = float(input(\"최종 속도를 입력해 주세요 (m/s): \"))\n",
        "t = float(input(\"가속 시간(초)을 입력해 주세요: \"))\n",
        "r = float(input(\"트랙 반지름(미터)을 입력해 주세요: \"))\n",
        "v_now = float(input(\"지름 방향 가속도를 계산할 현재 속도를 입력해 주세요 (m/s): \"))\n",
        "\n",
        "# (a) 접선 가속도 계산\n",
        "a_t = (v - v0) / t\n",
        "print(f\"(a) 접선 가속도: {a_t:.2f} m/s²\")\n",
        "\n",
        "# (b) 지름 방향(구심) 가속도 계산\n",
        "a_r = v_now ** 2 / r\n",
        "print(f\"(b) 지름 방향의 가속도: {a_r:.2f} m/s²\")"
      ]
    }
  ]
}