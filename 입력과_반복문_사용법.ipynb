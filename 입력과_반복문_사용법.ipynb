{
  "nbformat": 4,
  "nbformat_minor": 0,
  "metadata": {
    "colab": {
      "provenance": [],
      "gpuType": "T4",
      "authorship_tag": "ABX9TyPDWTzXT2YFdgHpZUpp8ImL",
      "include_colab_link": true
    },
    "kernelspec": {
      "name": "python3",
      "display_name": "Python 3"
    },
    "language_info": {
      "name": "python"
    },
    "accelerator": "GPU"
  },
  "cells": [
    {
      "cell_type": "markdown",
      "metadata": {
        "id": "view-in-github",
        "colab_type": "text"
      },
      "source": [
        "<a href=\"https://colab.research.google.com/github/eungyu321/ABCD-A/blob/20250411/%EC%9E%85%EB%A0%A5%EA%B3%BC_%EB%B0%98%EB%B3%B5%EB%AC%B8_%EC%82%AC%EC%9A%A9%EB%B2%95.ipynb\" target=\"_parent\"><img src=\"https://colab.research.google.com/assets/colab-badge.svg\" alt=\"Open In Colab\"/></a>"
      ]
    },
    {
      "cell_type": "code",
      "source": [
        "str = input(\"How old are you\")\n",
        "print(str+' years old', sep='')"
      ],
      "metadata": {
        "colab": {
          "base_uri": "https://localhost:8080/"
        },
        "id": "Flb3pxIIhRKd",
        "outputId": "b2685011-5395-4784-fbb5-2d1d1a383b54"
      },
      "execution_count": 15,
      "outputs": [
        {
          "output_type": "stream",
          "name": "stdout",
          "text": [
            "How old are you12\n",
            "12 years old\n"
          ]
        }
      ]
    },
    {
      "cell_type": "code",
      "source": [
        "x = int(input('number : '))\n",
        "print(x)"
      ],
      "metadata": {
        "colab": {
          "base_uri": "https://localhost:8080/"
        },
        "id": "m32mncsKhR89",
        "outputId": "877b3053-15de-4b81-d54f-52ab18dd9de8"
      },
      "execution_count": 16,
      "outputs": [
        {
          "output_type": "stream",
          "name": "stdout",
          "text": [
            "number : 25\n",
            "25\n"
          ]
        }
      ]
    },
    {
      "cell_type": "code",
      "source": [
        "x = float(input('number : '))\n",
        "print(x)"
      ],
      "metadata": {
        "colab": {
          "base_uri": "https://localhost:8080/"
        },
        "id": "jCFf4AVphWwl",
        "outputId": "edcc8039-926d-49be-ebad-434421b73ba5"
      },
      "execution_count": 17,
      "outputs": [
        {
          "output_type": "stream",
          "name": "stdout",
          "text": [
            "number : 67\n",
            "67.0\n"
          ]
        }
      ]
    },
    {
      "cell_type": "code",
      "source": [
        "year = input(\"This year: \")\n",
        "year = eval(year)\n",
        "year = year + 1\n",
        "print(\"next year\", year)"
      ],
      "metadata": {
        "colab": {
          "base_uri": "https://localhost:8080/"
        },
        "id": "-zI6fQ_YhbXc",
        "outputId": "63e74452-aa5f-46a3-c76c-c96a98d80976"
      },
      "execution_count": 18,
      "outputs": [
        {
          "output_type": "stream",
          "name": "stdout",
          "text": [
            "This year: 69\n",
            "next year 70\n"
          ]
        }
      ]
    },
    {
      "cell_type": "code",
      "source": [
        "i = 0\n",
        "result = 0\n",
        "while i < 5 :\n",
        "  print(f'{i}번째 ', end=\" \")\n",
        "  a = input(\"성적 입력 : \")\n",
        "  result += int(a)\n",
        "  i += 1\n",
        "\n",
        "print(f'합 : {result}')\n",
        "print(f'평균 : {result / 5}')"
      ],
      "metadata": {
        "colab": {
          "base_uri": "https://localhost:8080/"
        },
        "id": "ZQPtse-0iwF2",
        "outputId": "d810d252-2c7b-457b-8e42-1da15646f4dc"
      },
      "execution_count": 3,
      "outputs": [
        {
          "output_type": "stream",
          "name": "stdout",
          "text": [
            "0번째  성적 입력 : 10\n",
            "1번째  성적 입력 : 20\n",
            "2번째  성적 입력 : 30\n",
            "3번째  성적 입력 : 40\n",
            "4번째  성적 입력 : 50\n",
            "합 : 150\n",
            "평균 : 30.0\n"
          ]
        }
      ]
    },
    {
      "cell_type": "code",
      "source": [
        "test_list = ['one', 'two', 'three']\n",
        "for i in test_list :\n",
        "  print(i)"
      ],
      "metadata": {
        "colab": {
          "base_uri": "https://localhost:8080/"
        },
        "id": "GnfI7gFNi7rm",
        "outputId": "3555374c-1f09-4e6e-c6d7-404df7990e2a"
      },
      "execution_count": 4,
      "outputs": [
        {
          "output_type": "stream",
          "name": "stdout",
          "text": [
            "one\n",
            "two\n",
            "three\n"
          ]
        }
      ]
    },
    {
      "cell_type": "code",
      "source": [
        "for i in range(1, 10) :\n",
        "  print(i)"
      ],
      "metadata": {
        "colab": {
          "base_uri": "https://localhost:8080/"
        },
        "id": "8bl6QWICi8_F",
        "outputId": "f68c7a6c-0e70-401d-d653-7655e57f7a87"
      },
      "execution_count": 5,
      "outputs": [
        {
          "output_type": "stream",
          "name": "stdout",
          "text": [
            "1\n",
            "2\n",
            "3\n",
            "4\n",
            "5\n",
            "6\n",
            "7\n",
            "8\n",
            "9\n"
          ]
        }
      ]
    },
    {
      "cell_type": "code",
      "source": [
        "result = 0\n",
        "for a in range(1, 101) :\n",
        "  result = result + a\n",
        "  print(f\"(a) {result}\")\n",
        "\n",
        "print(result)\n",
        ""
      ],
      "metadata": {
        "colab": {
          "base_uri": "https://localhost:8080/"
        },
        "id": "eE1Xq0Nti-x9",
        "outputId": "2c3fcfe9-b926-433e-bfb9-827dacb854bc"
      },
      "execution_count": 6,
      "outputs": [
        {
          "output_type": "stream",
          "name": "stdout",
          "text": [
            "(a) 1\n",
            "(a) 3\n",
            "(a) 6\n",
            "(a) 10\n",
            "(a) 15\n",
            "(a) 21\n",
            "(a) 28\n",
            "(a) 36\n",
            "(a) 45\n",
            "(a) 55\n",
            "(a) 66\n",
            "(a) 78\n",
            "(a) 91\n",
            "(a) 105\n",
            "(a) 120\n",
            "(a) 136\n",
            "(a) 153\n",
            "(a) 171\n",
            "(a) 190\n",
            "(a) 210\n",
            "(a) 231\n",
            "(a) 253\n",
            "(a) 276\n",
            "(a) 300\n",
            "(a) 325\n",
            "(a) 351\n",
            "(a) 378\n",
            "(a) 406\n",
            "(a) 435\n",
            "(a) 465\n",
            "(a) 496\n",
            "(a) 528\n",
            "(a) 561\n",
            "(a) 595\n",
            "(a) 630\n",
            "(a) 666\n",
            "(a) 703\n",
            "(a) 741\n",
            "(a) 780\n",
            "(a) 820\n",
            "(a) 861\n",
            "(a) 903\n",
            "(a) 946\n",
            "(a) 990\n",
            "(a) 1035\n",
            "(a) 1081\n",
            "(a) 1128\n",
            "(a) 1176\n",
            "(a) 1225\n",
            "(a) 1275\n",
            "(a) 1326\n",
            "(a) 1378\n",
            "(a) 1431\n",
            "(a) 1485\n",
            "(a) 1540\n",
            "(a) 1596\n",
            "(a) 1653\n",
            "(a) 1711\n",
            "(a) 1770\n",
            "(a) 1830\n",
            "(a) 1891\n",
            "(a) 1953\n",
            "(a) 2016\n",
            "(a) 2080\n",
            "(a) 2145\n",
            "(a) 2211\n",
            "(a) 2278\n",
            "(a) 2346\n",
            "(a) 2415\n",
            "(a) 2485\n",
            "(a) 2556\n",
            "(a) 2628\n",
            "(a) 2701\n",
            "(a) 2775\n",
            "(a) 2850\n",
            "(a) 2926\n",
            "(a) 3003\n",
            "(a) 3081\n",
            "(a) 3160\n",
            "(a) 3240\n",
            "(a) 3321\n",
            "(a) 3403\n",
            "(a) 3486\n",
            "(a) 3570\n",
            "(a) 3655\n",
            "(a) 3741\n",
            "(a) 3828\n",
            "(a) 3916\n",
            "(a) 4005\n",
            "(a) 4095\n",
            "(a) 4186\n",
            "(a) 4278\n",
            "(a) 4371\n",
            "(a) 4465\n",
            "(a) 4560\n",
            "(a) 4656\n",
            "(a) 4753\n",
            "(a) 4851\n",
            "(a) 4950\n",
            "(a) 5050\n",
            "5050\n"
          ]
        }
      ]
    },
    {
      "cell_type": "code",
      "source": [
        "result = 0\n",
        "for a in range(1,101):\n",
        "  result = result + a\n",
        "  print(f'{a} : sum = {result}')\n",
        "  if result > 100:\n",
        "    break\n",
        "\n",
        "print(result)"
      ],
      "metadata": {
        "colab": {
          "base_uri": "https://localhost:8080/"
        },
        "id": "Z0zmOe7OjDN-",
        "outputId": "d9a3cd2d-adfc-41f6-fe24-f2312a797a4f"
      },
      "execution_count": 7,
      "outputs": [
        {
          "output_type": "stream",
          "name": "stdout",
          "text": [
            "1 : sum = 1\n",
            "2 : sum = 3\n",
            "3 : sum = 6\n",
            "4 : sum = 10\n",
            "5 : sum = 15\n",
            "6 : sum = 21\n",
            "7 : sum = 28\n",
            "8 : sum = 36\n",
            "9 : sum = 45\n",
            "10 : sum = 55\n",
            "11 : sum = 66\n",
            "12 : sum = 78\n",
            "13 : sum = 91\n",
            "14 : sum = 105\n",
            "105\n"
          ]
        }
      ]
    },
    {
      "cell_type": "code",
      "source": [
        "index = 0\n",
        "s = \"BlockDMask\"\n",
        "for a in s:\n",
        "  print(a, end=' ')\n",
        "  if a == 'k':\n",
        "    break\n",
        "\n",
        "  index = index + 1\n",
        "\n",
        "\n",
        "print(index)\n",
        ""
      ],
      "metadata": {
        "colab": {
          "base_uri": "https://localhost:8080/"
        },
        "id": "2oXEdu8cjEC2",
        "outputId": "0c64d650-75d3-4dc3-e0bb-b0ecc786af36"
      },
      "execution_count": 8,
      "outputs": [
        {
          "output_type": "stream",
          "name": "stdout",
          "text": [
            "B l o c k 4\n"
          ]
        }
      ]
    },
    {
      "cell_type": "code",
      "source": [
        "student = [180, 170, 164, 199, 182, 172, 177]\n",
        "for a in student:\n",
        "  if a <= 170:\n",
        "    print(a)\n",
        "    #continue\n",
        "\n",
        "  #print(a)\n",
        ""
      ],
      "metadata": {
        "colab": {
          "base_uri": "https://localhost:8080/"
        },
        "id": "lQca2TIcjHol",
        "outputId": "2e553dbb-2f9d-40e5-e5bb-31a45a179637"
      },
      "execution_count": 9,
      "outputs": [
        {
          "output_type": "stream",
          "name": "stdout",
          "text": [
            "170\n",
            "164\n"
          ]
        }
      ]
    },
    {
      "cell_type": "code",
      "source": [
        "result = 0\n",
        "for a in range(1,101):\n",
        "  if a % 2 == 1:\n",
        "    result = result + a\n",
        "\n",
        "print(result)\n",
        ""
      ],
      "metadata": {
        "colab": {
          "base_uri": "https://localhost:8080/"
        },
        "id": "eA000FbpjIeO",
        "outputId": "4f2c4437-33c3-41c0-a361-4ef876f05915"
      },
      "execution_count": 10,
      "outputs": [
        {
          "output_type": "stream",
          "name": "stdout",
          "text": [
            "2500\n"
          ]
        }
      ]
    },
    {
      "cell_type": "code",
      "source": [
        "result = 0\n",
        "for a in range(1,101):\n",
        "  if a % 2 == 0:\n",
        "\n",
        "    continue\n",
        "  result = result + a\n",
        "\n",
        "print(result)"
      ],
      "metadata": {
        "colab": {
          "base_uri": "https://localhost:8080/"
        },
        "id": "uVDgNFXFjKUV",
        "outputId": "452d1519-1cb5-4446-ed63-6ada7cae068b"
      },
      "execution_count": 11,
      "outputs": [
        {
          "output_type": "stream",
          "name": "stdout",
          "text": [
            "2500\n"
          ]
        }
      ]
    },
    {
      "cell_type": "code",
      "source": [
        "l = ['Alice', 'Bob', 'Charlie']\n",
        "\n",
        "for name in l:\n",
        "  if name == 'Bob':\n",
        "    print(\"Break!\")\n",
        "    break\n",
        "  print(name)\n",
        "else:\n",
        "  print(\"!!Finish\")"
      ],
      "metadata": {
        "colab": {
          "base_uri": "https://localhost:8080/"
        },
        "id": "LZIHBHRdjM4F",
        "outputId": "5fb96a3b-0f37-4706-ad72-467352a06dad"
      },
      "execution_count": 12,
      "outputs": [
        {
          "output_type": "stream",
          "name": "stdout",
          "text": [
            "Alice\n",
            "Break!\n"
          ]
        }
      ]
    },
    {
      "cell_type": "code",
      "source": [
        "sr = ['father', 'mother', 'brother']\n",
        "cnt = 0\n",
        "for s in sr:\n",
        "  print(s)\n",
        "  for c in s:\n",
        "    print(c, end= ' ')\n",
        "    if c == 'r':\n",
        "      print(' ')\n",
        "      cnt += 1\n",
        "print(cnt)"
      ],
      "metadata": {
        "colab": {
          "base_uri": "https://localhost:8080/"
        },
        "id": "kM1Sn4upjPOd",
        "outputId": "21f6c97b-b9b3-4d26-85d8-37c8699d1421"
      },
      "execution_count": 13,
      "outputs": [
        {
          "output_type": "stream",
          "name": "stdout",
          "text": [
            "father\n",
            "f a t h e r  \n",
            "mother\n",
            "m o t h e r  \n",
            "brother\n",
            "b r  \n",
            "o t h e r  \n",
            "4\n"
          ]
        }
      ]
    },
    {
      "cell_type": "code",
      "source": [
        "a = []\n",
        "\n",
        "for i in range(10):\n",
        "  a.append(i)\n",
        "\n",
        "print(a)\n",
        ""
      ],
      "metadata": {
        "colab": {
          "base_uri": "https://localhost:8080/"
        },
        "id": "DWT4KxpOjRV1",
        "outputId": "44296191-a2bf-49ce-cc43-10f04cf941ea"
      },
      "execution_count": 14,
      "outputs": [
        {
          "output_type": "stream",
          "name": "stdout",
          "text": [
            "[0, 1, 2, 3, 4, 5, 6, 7, 8, 9]\n"
          ]
        }
      ]
    },
    {
      "cell_type": "code",
      "source": [
        "a =[]\n",
        "\n",
        "for i in range(3):\n",
        "  line = []\n",
        "  for j in range(2):\n",
        "    line.append(j+i)\n",
        "  a.append(line)\n",
        "\n",
        "print(a)"
      ],
      "metadata": {
        "colab": {
          "base_uri": "https://localhost:8080/"
        },
        "id": "5wKVACd2jTSF",
        "outputId": "fc404500-0f60-4381-f84f-a8d86a1f8b10"
      },
      "execution_count": 15,
      "outputs": [
        {
          "output_type": "stream",
          "name": "stdout",
          "text": [
            "[[0, 1], [1, 2], [2, 3]]\n"
          ]
        }
      ]
    },
    {
      "cell_type": "code",
      "source": [
        "l = ['Alice', 'Bob', 'Charlie']\n",
        "\n",
        "for name in l:\n",
        "  print(name)\n",
        "\n",
        "for i, name in enumerate(l, 42):\n",
        "  print(i, name)\n",
        ""
      ],
      "metadata": {
        "colab": {
          "base_uri": "https://localhost:8080/"
        },
        "id": "en9q5OAvjVDt",
        "outputId": "c15969a3-46e2-4342-80d9-3001a5c26f60"
      },
      "execution_count": 16,
      "outputs": [
        {
          "output_type": "stream",
          "name": "stdout",
          "text": [
            "Alice\n",
            "Bob\n",
            "Charlie\n",
            "42 Alice\n",
            "43 Bob\n",
            "44 Charlie\n"
          ]
        }
      ]
    }
  ]
}