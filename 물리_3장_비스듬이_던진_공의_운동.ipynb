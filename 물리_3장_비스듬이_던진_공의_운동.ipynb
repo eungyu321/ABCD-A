{
  "nbformat": 4,
  "nbformat_minor": 0,
  "metadata": {
    "colab": {
      "provenance": [],
      "authorship_tag": "ABX9TyOU0UzvfYCuVX5pwQbGrJfn",
      "include_colab_link": true
    },
    "kernelspec": {
      "name": "python3",
      "display_name": "Python 3"
    },
    "language_info": {
      "name": "python"
    }
  },
  "cells": [
    {
      "cell_type": "markdown",
      "metadata": {
        "id": "view-in-github",
        "colab_type": "text"
      },
      "source": [
        "<a href=\"https://colab.research.google.com/github/eungyu321/ABCD-A/blob/0415-%EC%88%98%ED%8F%89%EC%9C%BC%EB%A1%9C-%EB%8D%98%EC%A7%84-%EA%B3%B5%EC%9D%98-%EC%9A%B4%EB%8F%99-%ED%94%84%EB%A1%9C%EA%B7%B8%EB%9E%98%EB%B0%8D-C%EC%96%B8%EC%96%B4/%EB%AC%BC%EB%A6%AC_3%EC%9E%A5_%EB%B9%84%EC%8A%A4%EB%93%AC%EC%9D%B4_%EB%8D%98%EC%A7%84_%EA%B3%B5%EC%9D%98_%EC%9A%B4%EB%8F%99.ipynb\" target=\"_parent\"><img src=\"https://colab.research.google.com/assets/colab-badge.svg\" alt=\"Open In Colab\"/></a>"
      ]
    },
    {
      "cell_type": "code",
      "execution_count": null,
      "metadata": {
        "colab": {
          "base_uri": "https://localhost:8080/"
        },
        "id": "78t2cle1v_BB",
        "outputId": "e30eefe5-d3ae-4da0-fd52-850f65e76055"
      },
      "outputs": [
        {
          "output_type": "stream",
          "name": "stdout",
          "text": [
            "==== 포물체 운동 계산기 ====\n"
          ]
        }
      ],
      "source": [
        "import math\n",
        "\n",
        "G = 9.8  # 중력 가속도\n",
        "\n",
        "print(\"==== 포물체 운동 계산기 ====\")\n",
        "v0 = float(input(\"초기 속도 v0 (m/s): \"))\n",
        "angle_deg = float(input(\"발사 각도 θ (도): \"))\n",
        "h = float(input(\"출발 지점의 높이 h (m): \"))\n",
        "\n",
        "# 각도를 라디안으로 변환\n",
        "angle_rad = math.radians(angle_deg)\n",
        "\n",
        "# 속도 성분\n",
        "v0x = v0 * math.cos(angle_rad)\n",
        "v0y = v0 * math.sin(angle_rad)\n",
        "\n",
        "# 2차 방정식의 계수\n",
        "a = -0.5 * G\n",
        "b = v0y\n",
        "c = h\n",
        "discriminant = b ** 2 - 4 * a * c\n",
        "\n",
        "if discriminant < 0:\n",
        "    print(\"오류: 현실적인 해가 없습니다 (낙하하지 않음).\")\n",
        "else:\n",
        "    # 시간 t 계산 (양의 해)\n",
        "    t = (-b + math.sqrt(discriminant)) / (2 * a)\n",
        "\n",
        "    # 수평 거리 계산\n",
        "    x = v0x * t\n",
        "\n",
        "    # 충돌 직전 속도 성분\n",
        "    vx = v0x\n",
        "    vy = v0y - G * t\n",
        "\n",
        "    # 속도 크기\n",
        "    v = math.sqrt(vx ** 2 + vy ** 2)\n",
        "\n",
        "    # 충돌 순간 각도 (라디안 → 도)\n",
        "    theta_deg = math.degrees(math.atan2(vy, vx))\n",
        "\n",
        "    # 결과 출력\n",
        "    print(\"\\n===== 결과 =====\")\n",
        "    print(f\"(a) 충돌까지 걸린 시간: {t:.2f} 초\")\n",
        "    print(f\"(b) 수평 거리: {x:.2f} m\")\n",
        "    print(f\"(c) 충돌 직전 속도 성분: vx = {vx:.2f} m/s, vy = {vy:.2f} m/s\")\n",
        "    print(f\"    속도 크기: {v:.2f} m/s\")\n",
        "    print(f\"(d) 충돌 각도: {theta_deg:.2f} 도\")"
      ]
    }
  ]
}