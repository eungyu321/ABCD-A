{
  "nbformat": 4,
  "nbformat_minor": 0,
  "metadata": {
    "colab": {
      "provenance": [],
      "authorship_tag": "ABX9TyOjFjCqCl937Y1VYpApHdYn",
      "include_colab_link": true
    },
    "kernelspec": {
      "name": "python3",
      "display_name": "Python 3"
    },
    "language_info": {
      "name": "python"
    }
  },
  "cells": [
    {
      "cell_type": "markdown",
      "metadata": {
        "id": "view-in-github",
        "colab_type": "text"
      },
      "source": [
        "<a href=\"https://colab.research.google.com/github/eungyu321/ABCD-A/blob/202503012/%EA%B7%B9%EC%A2%8C%ED%91%9C_%EC%A7%81%EA%B5%90%EC%A2%8C%ED%91%9C_%EB%B3%80%ED%99%98_%ED%8C%8C%EC%9D%B4%EC%8D%AC.ipynb\" target=\"_parent\"><img src=\"https://colab.research.google.com/assets/colab-badge.svg\" alt=\"Open In Colab\"/></a>"
      ]
    },
    {
      "cell_type": "code",
      "execution_count": null,
      "metadata": {
        "colab": {
          "base_uri": "https://localhost:8080/"
        },
        "id": "17IwMG6V0Hvc",
        "outputId": "2d186955-9683-424f-a207-f034e9fc1d99"
      },
      "outputs": [
        {
          "output_type": "stream",
          "name": "stdout",
          "text": [
            "angle_radian: 0.5235987755982988\n"
          ]
        }
      ],
      "source": [
        "import math #수학 함수를 사용하기 위해서 라이브러리 추가\n",
        "\n",
        "angle_degree=30\n",
        "\n",
        "angle_radian=angle_degree*math.pi/180\n",
        "\n",
        "print(\"angle_radian:\",angle_radian)"
      ]
    },
    {
      "cell_type": "code",
      "source": [
        "math.cos(angle_radian)"
      ],
      "metadata": {
        "colab": {
          "base_uri": "https://localhost:8080/"
        },
        "id": "VIQMoYLo2JyO",
        "outputId": "8ca3d490-1058-4bc6-b716-487c6ae73d24"
      },
      "execution_count": null,
      "outputs": [
        {
          "output_type": "execute_result",
          "data": {
            "text/plain": [
              "0.8660254037844387"
            ]
          },
          "metadata": {},
          "execution_count": 3
        }
      ]
    },
    {
      "cell_type": "code",
      "source": [
        "math.sin(angle_radian)"
      ],
      "metadata": {
        "colab": {
          "base_uri": "https://localhost:8080/"
        },
        "id": "BjwriMCH2UAF",
        "outputId": "d2219b3d-d1f4-4649-9611-8d66df324d81"
      },
      "execution_count": null,
      "outputs": [
        {
          "output_type": "execute_result",
          "data": {
            "text/plain": [
              "0.49999999999999994"
            ]
          },
          "metadata": {},
          "execution_count": 4
        }
      ]
    },
    {
      "cell_type": "code",
      "source": [
        "math.tan(angle_radian)"
      ],
      "metadata": {
        "colab": {
          "base_uri": "https://localhost:8080/"
        },
        "id": "9GluY-vx2hTz",
        "outputId": "7f597baf-b005-4e54-ccf4-e9995282e2f1"
      },
      "execution_count": null,
      "outputs": [
        {
          "output_type": "execute_result",
          "data": {
            "text/plain": [
              "0.5773502691896257"
            ]
          },
          "metadata": {},
          "execution_count": 5
        }
      ]
    },
    {
      "cell_type": "code",
      "source": [
        "x,y=1.0,2.0"
      ],
      "metadata": {
        "id": "-1m7rv-q2ugy"
      },
      "execution_count": null,
      "outputs": []
    },
    {
      "cell_type": "code",
      "source": [
        "r = math.sqrt(x**2+y**2)\n",
        "theta_raidan=math.atan2(y,x)\n",
        "\n",
        "print(r,theta_raidan)"
      ],
      "metadata": {
        "colab": {
          "base_uri": "https://localhost:8080/"
        },
        "id": "KkekpVQniq3y",
        "outputId": "a5794c28-72eb-4b13-db54-c85df45f9e0d"
      },
      "execution_count": null,
      "outputs": [
        {
          "output_type": "stream",
          "name": "stdout",
          "text": [
            "2.23606797749979 1.1071487177940904\n"
          ]
        }
      ]
    },
    {
      "cell_type": "code",
      "source": [
        "r,angle=10,30\n",
        "r=10\n",
        "angle_degree=30\n",
        "\n",
        "x=r*math.cos(angle_radian)\n",
        "y=angle*math.sin(angle_radian)\n",
        "\n",
        "print(x,y)"
      ],
      "metadata": {
        "id": "3vyUmZXJvQRN",
        "colab": {
          "base_uri": "https://localhost:8080/"
        },
        "outputId": "e86f66fd-27d2-4fc4-8160-242f4d45e753"
      },
      "execution_count": 33,
      "outputs": [
        {
          "output_type": "stream",
          "name": "stdout",
          "text": [
            "8.660254037844387 14.999999999999998\n"
          ]
        }
      ]
    }
  ]
}